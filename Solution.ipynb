{
 "cells": [
  {
   "cell_type": "code",
   "execution_count": 102,
   "metadata": {
    "collapsed": true
   },
   "outputs": [],
   "source": [
    "import pandas as pd\n",
    "import numpy as np\n",
    "\n",
    "%matplotlib inline\n",
    "import matplotlib.pyplot as plt\n",
    "import seaborn as sns"
   ]
  },
  {
   "cell_type": "code",
   "execution_count": 103,
   "metadata": {},
   "outputs": [
    {
     "name": "stdout",
     "output_type": "stream",
     "text": [
      "Train : (550068, 12), Test: (233599, 11)\n"
     ]
    },
    {
     "data": {
      "text/html": [
       "<div>\n",
       "<style scoped>\n",
       "    .dataframe tbody tr th:only-of-type {\n",
       "        vertical-align: middle;\n",
       "    }\n",
       "\n",
       "    .dataframe tbody tr th {\n",
       "        vertical-align: top;\n",
       "    }\n",
       "\n",
       "    .dataframe thead th {\n",
       "        text-align: right;\n",
       "    }\n",
       "</style>\n",
       "<table border=\"1\" class=\"dataframe\">\n",
       "  <thead>\n",
       "    <tr style=\"text-align: right;\">\n",
       "      <th></th>\n",
       "      <th>User_ID</th>\n",
       "      <th>Product_ID</th>\n",
       "      <th>Gender</th>\n",
       "      <th>Age</th>\n",
       "      <th>Occupation</th>\n",
       "      <th>City_Category</th>\n",
       "      <th>Stay_In_Current_City_Years</th>\n",
       "      <th>Marital_Status</th>\n",
       "      <th>Product_Category_1</th>\n",
       "      <th>Product_Category_2</th>\n",
       "      <th>Product_Category_3</th>\n",
       "      <th>Purchase</th>\n",
       "    </tr>\n",
       "  </thead>\n",
       "  <tbody>\n",
       "    <tr>\n",
       "      <th>0</th>\n",
       "      <td>1000001</td>\n",
       "      <td>P00069042</td>\n",
       "      <td>F</td>\n",
       "      <td>0-17</td>\n",
       "      <td>10</td>\n",
       "      <td>A</td>\n",
       "      <td>2</td>\n",
       "      <td>0</td>\n",
       "      <td>3</td>\n",
       "      <td>NaN</td>\n",
       "      <td>NaN</td>\n",
       "      <td>8370</td>\n",
       "    </tr>\n",
       "    <tr>\n",
       "      <th>1</th>\n",
       "      <td>1000001</td>\n",
       "      <td>P00248942</td>\n",
       "      <td>F</td>\n",
       "      <td>0-17</td>\n",
       "      <td>10</td>\n",
       "      <td>A</td>\n",
       "      <td>2</td>\n",
       "      <td>0</td>\n",
       "      <td>1</td>\n",
       "      <td>6.0</td>\n",
       "      <td>14.0</td>\n",
       "      <td>15200</td>\n",
       "    </tr>\n",
       "    <tr>\n",
       "      <th>2</th>\n",
       "      <td>1000001</td>\n",
       "      <td>P00087842</td>\n",
       "      <td>F</td>\n",
       "      <td>0-17</td>\n",
       "      <td>10</td>\n",
       "      <td>A</td>\n",
       "      <td>2</td>\n",
       "      <td>0</td>\n",
       "      <td>12</td>\n",
       "      <td>NaN</td>\n",
       "      <td>NaN</td>\n",
       "      <td>1422</td>\n",
       "    </tr>\n",
       "    <tr>\n",
       "      <th>3</th>\n",
       "      <td>1000001</td>\n",
       "      <td>P00085442</td>\n",
       "      <td>F</td>\n",
       "      <td>0-17</td>\n",
       "      <td>10</td>\n",
       "      <td>A</td>\n",
       "      <td>2</td>\n",
       "      <td>0</td>\n",
       "      <td>12</td>\n",
       "      <td>14.0</td>\n",
       "      <td>NaN</td>\n",
       "      <td>1057</td>\n",
       "    </tr>\n",
       "    <tr>\n",
       "      <th>4</th>\n",
       "      <td>1000002</td>\n",
       "      <td>P00285442</td>\n",
       "      <td>M</td>\n",
       "      <td>55+</td>\n",
       "      <td>16</td>\n",
       "      <td>C</td>\n",
       "      <td>4+</td>\n",
       "      <td>0</td>\n",
       "      <td>8</td>\n",
       "      <td>NaN</td>\n",
       "      <td>NaN</td>\n",
       "      <td>7969</td>\n",
       "    </tr>\n",
       "  </tbody>\n",
       "</table>\n",
       "</div>"
      ],
      "text/plain": [
       "   User_ID Product_ID Gender   Age  Occupation City_Category  \\\n",
       "0  1000001  P00069042      F  0-17          10             A   \n",
       "1  1000001  P00248942      F  0-17          10             A   \n",
       "2  1000001  P00087842      F  0-17          10             A   \n",
       "3  1000001  P00085442      F  0-17          10             A   \n",
       "4  1000002  P00285442      M   55+          16             C   \n",
       "\n",
       "  Stay_In_Current_City_Years  Marital_Status  Product_Category_1  \\\n",
       "0                          2               0                   3   \n",
       "1                          2               0                   1   \n",
       "2                          2               0                  12   \n",
       "3                          2               0                  12   \n",
       "4                         4+               0                   8   \n",
       "\n",
       "   Product_Category_2  Product_Category_3  Purchase  \n",
       "0                 NaN                 NaN      8370  \n",
       "1                 6.0                14.0     15200  \n",
       "2                 NaN                 NaN      1422  \n",
       "3                14.0                 NaN      1057  \n",
       "4                 NaN                 NaN      7969  "
      ]
     },
     "execution_count": 103,
     "metadata": {},
     "output_type": "execute_result"
    }
   ],
   "source": [
    "df_train = pd.read_csv(\"train.csv\")\n",
    "df_test = pd.read_csv(\"test.csv\")\n",
    "print(\"Train : {}, Test: {}\".format(df_train.shape,df_test.shape))\n",
    "\n",
    "df_train.head()"
   ]
  },
  {
   "cell_type": "code",
   "execution_count": 104,
   "metadata": {},
   "outputs": [
    {
     "name": "stdout",
     "output_type": "stream",
     "text": [
      "NA Values - Train DS\n",
      "User_ID : 0\n",
      "Product_ID : 0\n",
      "Gender : 0\n",
      "Age : 0\n",
      "Occupation : 0\n",
      "City_Category : 0\n",
      "Stay_In_Current_City_Years : 0\n",
      "Marital_Status : 0\n",
      "Product_Category_1 : 0\n",
      "Product_Category_2 : 173638\n",
      "Product_Category_3 : 383247\n",
      "Purchase : 0\n",
      "\n",
      "NA Values - Test DS\n",
      "User_ID : 0\n",
      "Product_ID : 0\n",
      "Gender : 0\n",
      "Age : 0\n",
      "Occupation : 0\n",
      "City_Category : 0\n",
      "Stay_In_Current_City_Years : 0\n",
      "Marital_Status : 0\n",
      "Product_Category_1 : 0\n",
      "Product_Category_2 : 72344\n",
      "Product_Category_3 : 162562\n"
     ]
    }
   ],
   "source": [
    "print(\"NA Values - Train DS\")\n",
    "for col in df_train.columns:\n",
    "    lna = len(df_train[df_train[col].isna()])\n",
    "    print(\"{} : {}\".format(col,lna))\n",
    "print()\n",
    "print(\"NA Values - Test DS\")\n",
    "for col in df_test.columns:\n",
    "    lna = len(df_test[df_test[col].isna()])\n",
    "    print(\"{} : {}\".format(col,lna))"
   ]
  },
  {
   "cell_type": "code",
   "execution_count": 105,
   "metadata": {},
   "outputs": [
    {
     "name": "stdout",
     "output_type": "stream",
     "text": [
      "Unique values count\n",
      "User_ID : 5891\n",
      "Product_ID : 3631\n",
      "Gender : 2\n",
      "Age : 7\n",
      "Occupation : 21\n",
      "Stay_In_Current_City_Years : 5\n",
      "City_Category : 3\n",
      "Marital_Status : 2\n",
      "Product_Category_1 : 20\n",
      "Product_Category_2 : 18\n",
      "Product_Category_3 : 16\n"
     ]
    }
   ],
   "source": [
    "print(\"Unique values count\")\n",
    "for col in ['User_ID','Product_ID','Gender','Age','Occupation','Stay_In_Current_City_Years','City_Category','Marital_Status','Product_Category_1','Product_Category_2','Product_Category_3']:\n",
    "    print(\"{} : {}\".format(col,len(df_train[col].unique())))"
   ]
  },
  {
   "cell_type": "code",
   "execution_count": 106,
   "metadata": {},
   "outputs": [
    {
     "data": {
      "text/html": [
       "<div>\n",
       "<style scoped>\n",
       "    .dataframe tbody tr th:only-of-type {\n",
       "        vertical-align: middle;\n",
       "    }\n",
       "\n",
       "    .dataframe tbody tr th {\n",
       "        vertical-align: top;\n",
       "    }\n",
       "\n",
       "    .dataframe thead th {\n",
       "        text-align: right;\n",
       "    }\n",
       "</style>\n",
       "<table border=\"1\" class=\"dataframe\">\n",
       "  <thead>\n",
       "    <tr style=\"text-align: right;\">\n",
       "      <th></th>\n",
       "      <th>User_ID</th>\n",
       "      <th>Product_ID</th>\n",
       "      <th>Gender</th>\n",
       "      <th>Age</th>\n",
       "      <th>Occupation</th>\n",
       "      <th>City_Category</th>\n",
       "      <th>Stay_In_Current_City_Years</th>\n",
       "      <th>Marital_Status</th>\n",
       "      <th>Product_Category_1</th>\n",
       "      <th>Product_Category_2</th>\n",
       "      <th>Product_Category_3</th>\n",
       "    </tr>\n",
       "  </thead>\n",
       "  <tbody>\n",
       "    <tr>\n",
       "      <th>0</th>\n",
       "      <td>1000004</td>\n",
       "      <td>P00128942</td>\n",
       "      <td>M</td>\n",
       "      <td>46-50</td>\n",
       "      <td>7</td>\n",
       "      <td>B</td>\n",
       "      <td>2</td>\n",
       "      <td>1</td>\n",
       "      <td>1</td>\n",
       "      <td>11.0</td>\n",
       "      <td>NaN</td>\n",
       "    </tr>\n",
       "    <tr>\n",
       "      <th>1</th>\n",
       "      <td>1000009</td>\n",
       "      <td>P00113442</td>\n",
       "      <td>M</td>\n",
       "      <td>26-35</td>\n",
       "      <td>17</td>\n",
       "      <td>C</td>\n",
       "      <td>0</td>\n",
       "      <td>0</td>\n",
       "      <td>3</td>\n",
       "      <td>5.0</td>\n",
       "      <td>NaN</td>\n",
       "    </tr>\n",
       "    <tr>\n",
       "      <th>2</th>\n",
       "      <td>1000010</td>\n",
       "      <td>P00288442</td>\n",
       "      <td>F</td>\n",
       "      <td>36-45</td>\n",
       "      <td>1</td>\n",
       "      <td>B</td>\n",
       "      <td>4+</td>\n",
       "      <td>1</td>\n",
       "      <td>5</td>\n",
       "      <td>14.0</td>\n",
       "      <td>NaN</td>\n",
       "    </tr>\n",
       "    <tr>\n",
       "      <th>3</th>\n",
       "      <td>1000010</td>\n",
       "      <td>P00145342</td>\n",
       "      <td>F</td>\n",
       "      <td>36-45</td>\n",
       "      <td>1</td>\n",
       "      <td>B</td>\n",
       "      <td>4+</td>\n",
       "      <td>1</td>\n",
       "      <td>4</td>\n",
       "      <td>9.0</td>\n",
       "      <td>NaN</td>\n",
       "    </tr>\n",
       "    <tr>\n",
       "      <th>4</th>\n",
       "      <td>1000011</td>\n",
       "      <td>P00053842</td>\n",
       "      <td>F</td>\n",
       "      <td>26-35</td>\n",
       "      <td>1</td>\n",
       "      <td>C</td>\n",
       "      <td>1</td>\n",
       "      <td>0</td>\n",
       "      <td>4</td>\n",
       "      <td>5.0</td>\n",
       "      <td>12.0</td>\n",
       "    </tr>\n",
       "  </tbody>\n",
       "</table>\n",
       "</div>"
      ],
      "text/plain": [
       "   User_ID Product_ID Gender    Age  Occupation City_Category  \\\n",
       "0  1000004  P00128942      M  46-50           7             B   \n",
       "1  1000009  P00113442      M  26-35          17             C   \n",
       "2  1000010  P00288442      F  36-45           1             B   \n",
       "3  1000010  P00145342      F  36-45           1             B   \n",
       "4  1000011  P00053842      F  26-35           1             C   \n",
       "\n",
       "  Stay_In_Current_City_Years  Marital_Status  Product_Category_1  \\\n",
       "0                          2               1                   1   \n",
       "1                          0               0                   3   \n",
       "2                         4+               1                   5   \n",
       "3                         4+               1                   4   \n",
       "4                          1               0                   4   \n",
       "\n",
       "   Product_Category_2  Product_Category_3  \n",
       "0                11.0                 NaN  \n",
       "1                 5.0                 NaN  \n",
       "2                14.0                 NaN  \n",
       "3                 9.0                 NaN  \n",
       "4                 5.0                12.0  "
      ]
     },
     "execution_count": 106,
     "metadata": {},
     "output_type": "execute_result"
    }
   ],
   "source": [
    "df_test.head()"
   ]
  },
  {
   "cell_type": "code",
   "execution_count": 107,
   "metadata": {},
   "outputs": [
    {
     "name": "stdout",
     "output_type": "stream",
     "text": [
      "[1, 2, 3, 4, 5, 6, 7, 8, 9, 10, 11, 12, 13, 14, 15, 16, 17, 18, 19, 20]\n"
     ]
    }
   ],
   "source": [
    "print(sorted(df_train['Product_Category_1'].unique()))\n",
    "df_Y = df_train['Purchase']\n",
    "df = df_train.drop(\"Purchase\",axis=1)"
   ]
  },
  {
   "cell_type": "code",
   "execution_count": 108,
   "metadata": {},
   "outputs": [
    {
     "data": {
      "text/html": [
       "<div>\n",
       "<style scoped>\n",
       "    .dataframe tbody tr th:only-of-type {\n",
       "        vertical-align: middle;\n",
       "    }\n",
       "\n",
       "    .dataframe tbody tr th {\n",
       "        vertical-align: top;\n",
       "    }\n",
       "\n",
       "    .dataframe thead th {\n",
       "        text-align: right;\n",
       "    }\n",
       "</style>\n",
       "<table border=\"1\" class=\"dataframe\">\n",
       "  <thead>\n",
       "    <tr style=\"text-align: right;\">\n",
       "      <th></th>\n",
       "      <th>User_ID</th>\n",
       "      <th>Product_ID</th>\n",
       "      <th>Gender</th>\n",
       "      <th>Age</th>\n",
       "      <th>Occupation</th>\n",
       "      <th>Stay_In_Current_City_Years</th>\n",
       "      <th>Marital_Status</th>\n",
       "      <th>Product_Category_2</th>\n",
       "      <th>Product_Category_3</th>\n",
       "      <th>City_A</th>\n",
       "      <th>...</th>\n",
       "      <th>Product_Cat_11</th>\n",
       "      <th>Product_Cat_12</th>\n",
       "      <th>Product_Cat_13</th>\n",
       "      <th>Product_Cat_14</th>\n",
       "      <th>Product_Cat_15</th>\n",
       "      <th>Product_Cat_16</th>\n",
       "      <th>Product_Cat_17</th>\n",
       "      <th>Product_Cat_18</th>\n",
       "      <th>Product_Cat_19</th>\n",
       "      <th>Product_Cat_20</th>\n",
       "    </tr>\n",
       "  </thead>\n",
       "  <tbody>\n",
       "    <tr>\n",
       "      <th>0</th>\n",
       "      <td>1000001</td>\n",
       "      <td>P00069042</td>\n",
       "      <td>0</td>\n",
       "      <td>0</td>\n",
       "      <td>10</td>\n",
       "      <td>2</td>\n",
       "      <td>0</td>\n",
       "      <td>0.0</td>\n",
       "      <td>0.0</td>\n",
       "      <td>1</td>\n",
       "      <td>...</td>\n",
       "      <td>0</td>\n",
       "      <td>0</td>\n",
       "      <td>0</td>\n",
       "      <td>0</td>\n",
       "      <td>0</td>\n",
       "      <td>0</td>\n",
       "      <td>0</td>\n",
       "      <td>0</td>\n",
       "      <td>0</td>\n",
       "      <td>0</td>\n",
       "    </tr>\n",
       "    <tr>\n",
       "      <th>1</th>\n",
       "      <td>1000001</td>\n",
       "      <td>P00248942</td>\n",
       "      <td>0</td>\n",
       "      <td>0</td>\n",
       "      <td>10</td>\n",
       "      <td>2</td>\n",
       "      <td>0</td>\n",
       "      <td>6.0</td>\n",
       "      <td>14.0</td>\n",
       "      <td>1</td>\n",
       "      <td>...</td>\n",
       "      <td>0</td>\n",
       "      <td>0</td>\n",
       "      <td>0</td>\n",
       "      <td>0</td>\n",
       "      <td>0</td>\n",
       "      <td>0</td>\n",
       "      <td>0</td>\n",
       "      <td>0</td>\n",
       "      <td>0</td>\n",
       "      <td>0</td>\n",
       "    </tr>\n",
       "    <tr>\n",
       "      <th>2</th>\n",
       "      <td>1000001</td>\n",
       "      <td>P00087842</td>\n",
       "      <td>0</td>\n",
       "      <td>0</td>\n",
       "      <td>10</td>\n",
       "      <td>2</td>\n",
       "      <td>0</td>\n",
       "      <td>0.0</td>\n",
       "      <td>0.0</td>\n",
       "      <td>1</td>\n",
       "      <td>...</td>\n",
       "      <td>0</td>\n",
       "      <td>1</td>\n",
       "      <td>0</td>\n",
       "      <td>0</td>\n",
       "      <td>0</td>\n",
       "      <td>0</td>\n",
       "      <td>0</td>\n",
       "      <td>0</td>\n",
       "      <td>0</td>\n",
       "      <td>0</td>\n",
       "    </tr>\n",
       "    <tr>\n",
       "      <th>3</th>\n",
       "      <td>1000001</td>\n",
       "      <td>P00085442</td>\n",
       "      <td>0</td>\n",
       "      <td>0</td>\n",
       "      <td>10</td>\n",
       "      <td>2</td>\n",
       "      <td>0</td>\n",
       "      <td>14.0</td>\n",
       "      <td>0.0</td>\n",
       "      <td>1</td>\n",
       "      <td>...</td>\n",
       "      <td>0</td>\n",
       "      <td>1</td>\n",
       "      <td>0</td>\n",
       "      <td>0</td>\n",
       "      <td>0</td>\n",
       "      <td>0</td>\n",
       "      <td>0</td>\n",
       "      <td>0</td>\n",
       "      <td>0</td>\n",
       "      <td>0</td>\n",
       "    </tr>\n",
       "    <tr>\n",
       "      <th>4</th>\n",
       "      <td>1000002</td>\n",
       "      <td>P00285442</td>\n",
       "      <td>1</td>\n",
       "      <td>6</td>\n",
       "      <td>16</td>\n",
       "      <td>4</td>\n",
       "      <td>0</td>\n",
       "      <td>0.0</td>\n",
       "      <td>0.0</td>\n",
       "      <td>0</td>\n",
       "      <td>...</td>\n",
       "      <td>0</td>\n",
       "      <td>0</td>\n",
       "      <td>0</td>\n",
       "      <td>0</td>\n",
       "      <td>0</td>\n",
       "      <td>0</td>\n",
       "      <td>0</td>\n",
       "      <td>0</td>\n",
       "      <td>0</td>\n",
       "      <td>0</td>\n",
       "    </tr>\n",
       "  </tbody>\n",
       "</table>\n",
       "<p>5 rows × 32 columns</p>\n",
       "</div>"
      ],
      "text/plain": [
       "   User_ID Product_ID  Gender  Age  Occupation Stay_In_Current_City_Years  \\\n",
       "0  1000001  P00069042       0    0          10                          2   \n",
       "1  1000001  P00248942       0    0          10                          2   \n",
       "2  1000001  P00087842       0    0          10                          2   \n",
       "3  1000001  P00085442       0    0          10                          2   \n",
       "4  1000002  P00285442       1    6          16                          4   \n",
       "\n",
       "   Marital_Status  Product_Category_2  Product_Category_3  City_A  \\\n",
       "0               0                 0.0                 0.0       1   \n",
       "1               0                 6.0                14.0       1   \n",
       "2               0                 0.0                 0.0       1   \n",
       "3               0                14.0                 0.0       1   \n",
       "4               0                 0.0                 0.0       0   \n",
       "\n",
       "        ...        Product_Cat_11  Product_Cat_12  Product_Cat_13  \\\n",
       "0       ...                     0               0               0   \n",
       "1       ...                     0               0               0   \n",
       "2       ...                     0               1               0   \n",
       "3       ...                     0               1               0   \n",
       "4       ...                     0               0               0   \n",
       "\n",
       "   Product_Cat_14  Product_Cat_15  Product_Cat_16  Product_Cat_17  \\\n",
       "0               0               0               0               0   \n",
       "1               0               0               0               0   \n",
       "2               0               0               0               0   \n",
       "3               0               0               0               0   \n",
       "4               0               0               0               0   \n",
       "\n",
       "   Product_Cat_18  Product_Cat_19  Product_Cat_20  \n",
       "0               0               0               0  \n",
       "1               0               0               0  \n",
       "2               0               0               0  \n",
       "3               0               0               0  \n",
       "4               0               0               0  \n",
       "\n",
       "[5 rows x 32 columns]"
      ]
     },
     "execution_count": 108,
     "metadata": {},
     "output_type": "execute_result"
    }
   ],
   "source": [
    "df = df.append(df_test,sort=False,ignore_index=True)\n",
    "df.fillna(0,inplace=True)\n",
    "from sklearn.preprocessing import LabelEncoder\n",
    "le = LabelEncoder()\n",
    "df['Gender'] = le.fit_transform(df.Gender)\n",
    "df['Age'] = le.fit_transform(df.Age)\n",
    "#city category, ohe\n",
    "df['Stay_In_Current_City_Years'].replace('4+',4,inplace=True)\n",
    "\n",
    "df = pd.get_dummies(df,columns=['City_Category','Product_Category_1'],prefix=[\"City\",\"Product_Cat\"])\n",
    "df.head()"
   ]
  },
  {
   "cell_type": "code",
   "execution_count": null,
   "metadata": {
    "collapsed": true,
    "scrolled": true
   },
   "outputs": [],
   "source": [
    "for i in df.index:\n",
    "    cat2 = df.iloc[i].Product_Category_2\n",
    "    if cat2 != 0:\n",
    "        df.ix[i , \"Product_Cat_\"+str(int(cat2)) ] = 1\n",
    "    \n",
    "    cat3 = df.iloc[i].Product_Category_3\n",
    "    if cat3 != 0:\n",
    "        df.ix[i , \"Product_Cat_\"+str(int(cat3)) ] = 1 "
   ]
  },
  {
   "cell_type": "code",
   "execution_count": null,
   "metadata": {
    "collapsed": true
   },
   "outputs": [],
   "source": [
    "df.head()"
   ]
  },
  {
   "cell_type": "code",
   "execution_count": null,
   "metadata": {
    "collapsed": true
   },
   "outputs": [],
   "source": [
    "df.to_csv(\"final_df_550068_233599.csv\",index=False)"
   ]
  },
  {
   "cell_type": "code",
   "execution_count": 109,
   "metadata": {},
   "outputs": [
    {
     "name": "stdout",
     "output_type": "stream",
     "text": [
      "(783667, 32)\n"
     ]
    },
    {
     "data": {
      "text/html": [
       "<div>\n",
       "<style scoped>\n",
       "    .dataframe tbody tr th:only-of-type {\n",
       "        vertical-align: middle;\n",
       "    }\n",
       "\n",
       "    .dataframe tbody tr th {\n",
       "        vertical-align: top;\n",
       "    }\n",
       "\n",
       "    .dataframe thead th {\n",
       "        text-align: right;\n",
       "    }\n",
       "</style>\n",
       "<table border=\"1\" class=\"dataframe\">\n",
       "  <thead>\n",
       "    <tr style=\"text-align: right;\">\n",
       "      <th></th>\n",
       "      <th>User_ID</th>\n",
       "      <th>Product_ID</th>\n",
       "      <th>Gender</th>\n",
       "      <th>Occupation</th>\n",
       "      <th>Marital_Status</th>\n",
       "      <th>Product_Category_2</th>\n",
       "      <th>Product_Category_3</th>\n",
       "      <th>City_A</th>\n",
       "      <th>City_B</th>\n",
       "      <th>City_C</th>\n",
       "      <th>...</th>\n",
       "      <th>Age_2</th>\n",
       "      <th>Age_3</th>\n",
       "      <th>Age_4</th>\n",
       "      <th>Age_5</th>\n",
       "      <th>Age_6</th>\n",
       "      <th>Stay_In_Current_City_Years_0</th>\n",
       "      <th>Stay_In_Current_City_Years_1</th>\n",
       "      <th>Stay_In_Current_City_Years_2</th>\n",
       "      <th>Stay_In_Current_City_Years_3</th>\n",
       "      <th>Stay_In_Current_City_Years_4</th>\n",
       "    </tr>\n",
       "  </thead>\n",
       "  <tbody>\n",
       "    <tr>\n",
       "      <th>0</th>\n",
       "      <td>1000001</td>\n",
       "      <td>P00069042</td>\n",
       "      <td>0</td>\n",
       "      <td>10</td>\n",
       "      <td>0</td>\n",
       "      <td>0.0</td>\n",
       "      <td>0.0</td>\n",
       "      <td>1</td>\n",
       "      <td>0</td>\n",
       "      <td>0</td>\n",
       "      <td>...</td>\n",
       "      <td>0</td>\n",
       "      <td>0</td>\n",
       "      <td>0</td>\n",
       "      <td>0</td>\n",
       "      <td>0</td>\n",
       "      <td>0</td>\n",
       "      <td>0</td>\n",
       "      <td>1</td>\n",
       "      <td>0</td>\n",
       "      <td>0</td>\n",
       "    </tr>\n",
       "    <tr>\n",
       "      <th>1</th>\n",
       "      <td>1000001</td>\n",
       "      <td>P00248942</td>\n",
       "      <td>0</td>\n",
       "      <td>10</td>\n",
       "      <td>0</td>\n",
       "      <td>6.0</td>\n",
       "      <td>14.0</td>\n",
       "      <td>1</td>\n",
       "      <td>0</td>\n",
       "      <td>0</td>\n",
       "      <td>...</td>\n",
       "      <td>0</td>\n",
       "      <td>0</td>\n",
       "      <td>0</td>\n",
       "      <td>0</td>\n",
       "      <td>0</td>\n",
       "      <td>0</td>\n",
       "      <td>0</td>\n",
       "      <td>1</td>\n",
       "      <td>0</td>\n",
       "      <td>0</td>\n",
       "    </tr>\n",
       "    <tr>\n",
       "      <th>2</th>\n",
       "      <td>1000001</td>\n",
       "      <td>P00087842</td>\n",
       "      <td>0</td>\n",
       "      <td>10</td>\n",
       "      <td>0</td>\n",
       "      <td>0.0</td>\n",
       "      <td>0.0</td>\n",
       "      <td>1</td>\n",
       "      <td>0</td>\n",
       "      <td>0</td>\n",
       "      <td>...</td>\n",
       "      <td>0</td>\n",
       "      <td>0</td>\n",
       "      <td>0</td>\n",
       "      <td>0</td>\n",
       "      <td>0</td>\n",
       "      <td>0</td>\n",
       "      <td>0</td>\n",
       "      <td>1</td>\n",
       "      <td>0</td>\n",
       "      <td>0</td>\n",
       "    </tr>\n",
       "    <tr>\n",
       "      <th>3</th>\n",
       "      <td>1000001</td>\n",
       "      <td>P00085442</td>\n",
       "      <td>0</td>\n",
       "      <td>10</td>\n",
       "      <td>0</td>\n",
       "      <td>14.0</td>\n",
       "      <td>0.0</td>\n",
       "      <td>1</td>\n",
       "      <td>0</td>\n",
       "      <td>0</td>\n",
       "      <td>...</td>\n",
       "      <td>0</td>\n",
       "      <td>0</td>\n",
       "      <td>0</td>\n",
       "      <td>0</td>\n",
       "      <td>0</td>\n",
       "      <td>0</td>\n",
       "      <td>0</td>\n",
       "      <td>1</td>\n",
       "      <td>0</td>\n",
       "      <td>0</td>\n",
       "    </tr>\n",
       "    <tr>\n",
       "      <th>4</th>\n",
       "      <td>1000002</td>\n",
       "      <td>P00285442</td>\n",
       "      <td>1</td>\n",
       "      <td>16</td>\n",
       "      <td>0</td>\n",
       "      <td>0.0</td>\n",
       "      <td>0.0</td>\n",
       "      <td>0</td>\n",
       "      <td>0</td>\n",
       "      <td>1</td>\n",
       "      <td>...</td>\n",
       "      <td>0</td>\n",
       "      <td>0</td>\n",
       "      <td>0</td>\n",
       "      <td>0</td>\n",
       "      <td>1</td>\n",
       "      <td>0</td>\n",
       "      <td>0</td>\n",
       "      <td>0</td>\n",
       "      <td>0</td>\n",
       "      <td>1</td>\n",
       "    </tr>\n",
       "  </tbody>\n",
       "</table>\n",
       "<p>5 rows × 42 columns</p>\n",
       "</div>"
      ],
      "text/plain": [
       "   User_ID Product_ID  Gender  Occupation  Marital_Status  Product_Category_2  \\\n",
       "0  1000001  P00069042       0          10               0                 0.0   \n",
       "1  1000001  P00248942       0          10               0                 6.0   \n",
       "2  1000001  P00087842       0          10               0                 0.0   \n",
       "3  1000001  P00085442       0          10               0                14.0   \n",
       "4  1000002  P00285442       1          16               0                 0.0   \n",
       "\n",
       "   Product_Category_3  City_A  City_B  City_C              ...               \\\n",
       "0                 0.0       1       0       0              ...                \n",
       "1                14.0       1       0       0              ...                \n",
       "2                 0.0       1       0       0              ...                \n",
       "3                 0.0       1       0       0              ...                \n",
       "4                 0.0       0       0       1              ...                \n",
       "\n",
       "   Age_2  Age_3  Age_4  Age_5  Age_6  Stay_In_Current_City_Years_0  \\\n",
       "0      0      0      0      0      0                             0   \n",
       "1      0      0      0      0      0                             0   \n",
       "2      0      0      0      0      0                             0   \n",
       "3      0      0      0      0      0                             0   \n",
       "4      0      0      0      0      1                             0   \n",
       "\n",
       "   Stay_In_Current_City_Years_1  Stay_In_Current_City_Years_2  \\\n",
       "0                             0                             1   \n",
       "1                             0                             1   \n",
       "2                             0                             1   \n",
       "3                             0                             1   \n",
       "4                             0                             0   \n",
       "\n",
       "   Stay_In_Current_City_Years_3  Stay_In_Current_City_Years_4  \n",
       "0                             0                             0  \n",
       "1                             0                             0  \n",
       "2                             0                             0  \n",
       "3                             0                             0  \n",
       "4                             0                             1  \n",
       "\n",
       "[5 rows x 42 columns]"
      ]
     },
     "execution_count": 109,
     "metadata": {},
     "output_type": "execute_result"
    }
   ],
   "source": [
    "df = pd.read_csv(\"final_df_550068_233599.csv\")\n",
    "print(df.shape)\n",
    "df = pd.get_dummies(df,columns=[\"Age\",\"Stay_In_Current_City_Years\"])\n",
    "df.head()"
   ]
  },
  {
   "cell_type": "code",
   "execution_count": 110,
   "metadata": {
    "collapsed": true
   },
   "outputs": [],
   "source": [
    "submission = df[550068:][[\"User_ID\",\"Product_ID\"]]\n",
    "df.drop([\"User_ID\",\"Product_ID\",\"Product_Category_2\",\"Product_Category_3\"],axis=1,inplace=True)\n",
    "X = df[:550068]\n",
    "Y = df_Y[:550068]\n",
    "X_test = df[550068:]\n",
    "Y_test = df_Y[550068:]"
   ]
  },
  {
   "cell_type": "code",
   "execution_count": 111,
   "metadata": {},
   "outputs": [
    {
     "data": {
      "text/html": [
       "<div>\n",
       "<style scoped>\n",
       "    .dataframe tbody tr th:only-of-type {\n",
       "        vertical-align: middle;\n",
       "    }\n",
       "\n",
       "    .dataframe tbody tr th {\n",
       "        vertical-align: top;\n",
       "    }\n",
       "\n",
       "    .dataframe thead th {\n",
       "        text-align: right;\n",
       "    }\n",
       "</style>\n",
       "<table border=\"1\" class=\"dataframe\">\n",
       "  <thead>\n",
       "    <tr style=\"text-align: right;\">\n",
       "      <th></th>\n",
       "      <th>Gender</th>\n",
       "      <th>Occupation</th>\n",
       "      <th>Marital_Status</th>\n",
       "      <th>City_A</th>\n",
       "      <th>City_B</th>\n",
       "      <th>City_C</th>\n",
       "      <th>Product_Cat_1</th>\n",
       "      <th>Product_Cat_2</th>\n",
       "      <th>Product_Cat_3</th>\n",
       "      <th>Product_Cat_4</th>\n",
       "      <th>...</th>\n",
       "      <th>Age_2</th>\n",
       "      <th>Age_3</th>\n",
       "      <th>Age_4</th>\n",
       "      <th>Age_5</th>\n",
       "      <th>Age_6</th>\n",
       "      <th>Stay_In_Current_City_Years_0</th>\n",
       "      <th>Stay_In_Current_City_Years_1</th>\n",
       "      <th>Stay_In_Current_City_Years_2</th>\n",
       "      <th>Stay_In_Current_City_Years_3</th>\n",
       "      <th>Stay_In_Current_City_Years_4</th>\n",
       "    </tr>\n",
       "  </thead>\n",
       "  <tbody>\n",
       "    <tr>\n",
       "      <th>0</th>\n",
       "      <td>0</td>\n",
       "      <td>10</td>\n",
       "      <td>0</td>\n",
       "      <td>1</td>\n",
       "      <td>0</td>\n",
       "      <td>0</td>\n",
       "      <td>0</td>\n",
       "      <td>0</td>\n",
       "      <td>1</td>\n",
       "      <td>0</td>\n",
       "      <td>...</td>\n",
       "      <td>0</td>\n",
       "      <td>0</td>\n",
       "      <td>0</td>\n",
       "      <td>0</td>\n",
       "      <td>0</td>\n",
       "      <td>0</td>\n",
       "      <td>0</td>\n",
       "      <td>1</td>\n",
       "      <td>0</td>\n",
       "      <td>0</td>\n",
       "    </tr>\n",
       "    <tr>\n",
       "      <th>1</th>\n",
       "      <td>0</td>\n",
       "      <td>10</td>\n",
       "      <td>0</td>\n",
       "      <td>1</td>\n",
       "      <td>0</td>\n",
       "      <td>0</td>\n",
       "      <td>1</td>\n",
       "      <td>0</td>\n",
       "      <td>0</td>\n",
       "      <td>0</td>\n",
       "      <td>...</td>\n",
       "      <td>0</td>\n",
       "      <td>0</td>\n",
       "      <td>0</td>\n",
       "      <td>0</td>\n",
       "      <td>0</td>\n",
       "      <td>0</td>\n",
       "      <td>0</td>\n",
       "      <td>1</td>\n",
       "      <td>0</td>\n",
       "      <td>0</td>\n",
       "    </tr>\n",
       "    <tr>\n",
       "      <th>2</th>\n",
       "      <td>0</td>\n",
       "      <td>10</td>\n",
       "      <td>0</td>\n",
       "      <td>1</td>\n",
       "      <td>0</td>\n",
       "      <td>0</td>\n",
       "      <td>0</td>\n",
       "      <td>0</td>\n",
       "      <td>0</td>\n",
       "      <td>0</td>\n",
       "      <td>...</td>\n",
       "      <td>0</td>\n",
       "      <td>0</td>\n",
       "      <td>0</td>\n",
       "      <td>0</td>\n",
       "      <td>0</td>\n",
       "      <td>0</td>\n",
       "      <td>0</td>\n",
       "      <td>1</td>\n",
       "      <td>0</td>\n",
       "      <td>0</td>\n",
       "    </tr>\n",
       "    <tr>\n",
       "      <th>3</th>\n",
       "      <td>0</td>\n",
       "      <td>10</td>\n",
       "      <td>0</td>\n",
       "      <td>1</td>\n",
       "      <td>0</td>\n",
       "      <td>0</td>\n",
       "      <td>0</td>\n",
       "      <td>0</td>\n",
       "      <td>0</td>\n",
       "      <td>0</td>\n",
       "      <td>...</td>\n",
       "      <td>0</td>\n",
       "      <td>0</td>\n",
       "      <td>0</td>\n",
       "      <td>0</td>\n",
       "      <td>0</td>\n",
       "      <td>0</td>\n",
       "      <td>0</td>\n",
       "      <td>1</td>\n",
       "      <td>0</td>\n",
       "      <td>0</td>\n",
       "    </tr>\n",
       "    <tr>\n",
       "      <th>4</th>\n",
       "      <td>1</td>\n",
       "      <td>16</td>\n",
       "      <td>0</td>\n",
       "      <td>0</td>\n",
       "      <td>0</td>\n",
       "      <td>1</td>\n",
       "      <td>0</td>\n",
       "      <td>0</td>\n",
       "      <td>0</td>\n",
       "      <td>0</td>\n",
       "      <td>...</td>\n",
       "      <td>0</td>\n",
       "      <td>0</td>\n",
       "      <td>0</td>\n",
       "      <td>0</td>\n",
       "      <td>1</td>\n",
       "      <td>0</td>\n",
       "      <td>0</td>\n",
       "      <td>0</td>\n",
       "      <td>0</td>\n",
       "      <td>1</td>\n",
       "    </tr>\n",
       "  </tbody>\n",
       "</table>\n",
       "<p>5 rows × 38 columns</p>\n",
       "</div>"
      ],
      "text/plain": [
       "   Gender  Occupation  Marital_Status  City_A  City_B  City_C  Product_Cat_1  \\\n",
       "0       0          10               0       1       0       0              0   \n",
       "1       0          10               0       1       0       0              1   \n",
       "2       0          10               0       1       0       0              0   \n",
       "3       0          10               0       1       0       0              0   \n",
       "4       1          16               0       0       0       1              0   \n",
       "\n",
       "   Product_Cat_2  Product_Cat_3  Product_Cat_4              ...               \\\n",
       "0              0              1              0              ...                \n",
       "1              0              0              0              ...                \n",
       "2              0              0              0              ...                \n",
       "3              0              0              0              ...                \n",
       "4              0              0              0              ...                \n",
       "\n",
       "   Age_2  Age_3  Age_4  Age_5  Age_6  Stay_In_Current_City_Years_0  \\\n",
       "0      0      0      0      0      0                             0   \n",
       "1      0      0      0      0      0                             0   \n",
       "2      0      0      0      0      0                             0   \n",
       "3      0      0      0      0      0                             0   \n",
       "4      0      0      0      0      1                             0   \n",
       "\n",
       "   Stay_In_Current_City_Years_1  Stay_In_Current_City_Years_2  \\\n",
       "0                             0                             1   \n",
       "1                             0                             1   \n",
       "2                             0                             1   \n",
       "3                             0                             1   \n",
       "4                             0                             0   \n",
       "\n",
       "   Stay_In_Current_City_Years_3  Stay_In_Current_City_Years_4  \n",
       "0                             0                             0  \n",
       "1                             0                             0  \n",
       "2                             0                             0  \n",
       "3                             0                             0  \n",
       "4                             0                             1  \n",
       "\n",
       "[5 rows x 38 columns]"
      ]
     },
     "execution_count": 111,
     "metadata": {},
     "output_type": "execute_result"
    }
   ],
   "source": [
    "X.head()"
   ]
  },
  {
   "cell_type": "markdown",
   "metadata": {},
   "source": [
    "### Visualizations\n",
    "Relations\n",
    "1. Gender vs Purchase\n",
    "2. Age vs Purchase\n",
    "3. Stay vs Purcahse\n",
    "4. Marital vs Purchase\n",
    "5. City vs Purchase\n",
    "6. Occupations vs Purchase\n",
    "7. Age vs Marital\n",
    "8. Occpation vs Age\n",
    "\n",
    "Distributions\n",
    "1. Stay\n",
    "2. Occupation\n",
    "3. Purchase"
   ]
  },
  {
   "cell_type": "code",
   "execution_count": 11,
   "metadata": {},
   "outputs": [
    {
     "data": {
      "text/plain": [
       "<matplotlib.axes._subplots.AxesSubplot at 0x7f11a2d68e10>"
      ]
     },
     "execution_count": 11,
     "metadata": {},
     "output_type": "execute_result"
    },
    {
     "data": {
      "image/png": "[encoded data removed]",
      "text/plain": [
       "<matplotlib.figure.Figure at 0x7f11c9720908>"
      ]
     },
     "metadata": {},
     "output_type": "display_data"
    }
   ],
   "source": [
    "fig,ax = plt.subplots(figsize=(20,4),ncols=2,nrows=1)\n",
    "sns.barplot(x=\"Gender\",y=\"Purchase\",hue=\"Marital_Status\",estimator=np.mean,data=df_train,ax=ax[0])\n",
    "sns.countplot(x=\"Gender\",hue=\"Marital_Status\",data=df_train,ax=ax[1])"
   ]
  },
  {
   "cell_type": "code",
   "execution_count": 12,
   "metadata": {},
   "outputs": [
    {
     "data": {
      "text/plain": [
       "<matplotlib.axes._subplots.AxesSubplot at 0x7f11a2c7a3c8>"
      ]
     },
     "execution_count": 12,
     "metadata": {},
     "output_type": "execute_result"
    },
    {
     "data": {
      "image/png": "[encoded data removed]",
      "text/plain": [
       "<matplotlib.figure.Figure at 0x7f11a2d822b0>"
      ]
     },
     "metadata": {},
     "output_type": "display_data"
    }
   ],
   "source": [
    "fig,ax = plt.subplots(figsize=(20,4),ncols=2,nrows=1)\n",
    "sns.barplot(x=\"Stay_In_Current_City_Years\",y=\"Purchase\",hue=\"City_Category\",order=[\"0\",\"1\",\"2\",\"3\",\"4+\"],estimator=np.mean,data=df_train,ax=ax[0])\n",
    "sns.countplot(x=\"Stay_In_Current_City_Years\",hue=\"City_Category\",order=[\"0\",\"1\",\"2\",\"3\",\"4+\"],data=df_train,ax=ax[1])"
   ]
  },
  {
   "cell_type": "code",
   "execution_count": 13,
   "metadata": {},
   "outputs": [
    {
     "data": {
      "text/plain": [
       "<matplotlib.axes._subplots.AxesSubplot at 0x7f11a2b278d0>"
      ]
     },
     "execution_count": 13,
     "metadata": {},
     "output_type": "execute_result"
    },
    {
     "data": {
      "image/png": "[encoded data removed]",
      "text/plain": [
       "<matplotlib.figure.Figure at 0x7f11a2d11470>"
      ]
     },
     "metadata": {},
     "output_type": "display_data"
    }
   ],
   "source": [
    "fig,ax = plt.subplots(figsize=(20,4),ncols=2,nrows=1)\n",
    "sns.violinplot(x=\"City_Category\",y=\"Occupation\",data=df_train,ax=ax[0])\n",
    "sns.lineplot(x=\"Occupation\",y=\"Purchase\",data=df_train,ax=ax[1])"
   ]
  },
  {
   "cell_type": "code",
   "execution_count": 14,
   "metadata": {},
   "outputs": [
    {
     "data": {
      "text/plain": [
       "<matplotlib.axes._subplots.AxesSubplot at 0x7f11a0e1b518>"
      ]
     },
     "execution_count": 14,
     "metadata": {},
     "output_type": "execute_result"
    },
    {
     "data": {
      "image/png": "[encoded data removed]",
      "text/plain": [
       "<matplotlib.figure.Figure at 0x7f11c8f8e668>"
      ]
     },
     "metadata": {},
     "output_type": "display_data"
    }
   ],
   "source": [
    "fig,ax = plt.subplots(figsize=(20,4),ncols=2,nrows=1)\n",
    "sns.violinplot(x=\"Age\",y=\"Purchase\",order=[\"0-17\",\"18-25\",\"26-35\",\"36-45\",\"46-50\",\"51-55\",\"55+\"],data=df_train,ax=ax[0])\n",
    "sns.violinplot(x=\"Age\",y=\"Occupation\",order=[\"0-17\",\"18-25\",\"26-35\",\"36-45\",\"46-50\",\"51-55\",\"55+\"],data=df_train,ax=ax[1])"
   ]
  },
  {
   "cell_type": "code",
   "execution_count": 15,
   "metadata": {},
   "outputs": [
    {
     "data": {
      "text/plain": [
       "<matplotlib.axes._subplots.AxesSubplot at 0x7f11c8f8ea20>"
      ]
     },
     "execution_count": 15,
     "metadata": {},
     "output_type": "execute_result"
    },
    {
     "data": {
      "image/png": "[encoded data removed]",
      "text/plain": [
       "<matplotlib.figure.Figure at 0x7f11a2b305c0>"
      ]
     },
     "metadata": {},
     "output_type": "display_data"
    }
   ],
   "source": [
    "sns.boxplot(y=\"Purchase\",data=df_train)"
   ]
  },
  {
   "cell_type": "markdown",
   "metadata": {},
   "source": [
    "### Lets see some correlations\n",
    "1. Occupation vs Purchase\n",
    "2. Occupation vs Stay"
   ]
  },
  {
   "cell_type": "code",
   "execution_count": 16,
   "metadata": {},
   "outputs": [
    {
     "name": "stdout",
     "output_type": "stream",
     "text": [
      "Occ and Purchase : [[ 1.          0.02083262]\n",
      " [ 0.02083262  1.        ]]\n"
     ]
    }
   ],
   "source": [
    "print(\"Occ and Purchase : {}\".format(np.corrcoef(X.Occupation,Y)))"
   ]
  },
  {
   "cell_type": "code",
   "execution_count": 17,
   "metadata": {},
   "outputs": [
    {
     "name": "stdout",
     "output_type": "stream",
     "text": [
      "Occ and Stay : [[ 1.          0.03000458]\n",
      " [ 0.03000458  1.        ]]\n"
     ]
    }
   ],
   "source": [
    "print(\"Occ and Stay : {}\".format(np.corrcoef(X.Occupation,X.Stay_In_Current_City_Years)))"
   ]
  },
  {
   "cell_type": "markdown",
   "metadata": {},
   "source": [
    "### Split train and test data"
   ]
  },
  {
   "cell_type": "code",
   "execution_count": 113,
   "metadata": {},
   "outputs": [
    {
     "name": "stdout",
     "output_type": "stream",
     "text": [
      "(440054, 38) (440054,) | (110014, 38) (110014,)\n"
     ]
    }
   ],
   "source": [
    "from sklearn.model_selection import train_test_split\n",
    "(X_train,X_Validation,Y_train,Y_Validation) = train_test_split(X,Y,test_size=0.2,random_state=5)\n",
    "print(\"{} {} | {} {}\".format(X_train.shape,Y_train.shape,X_Validation.shape,Y_Validation.shape))"
   ]
  },
  {
   "cell_type": "markdown",
   "metadata": {},
   "source": [
    "### Try some models\n",
    "1. Linear Regression\n",
    "2. SGDRegressor\n",
    "3. SVR\n",
    "4. XGBoost Regressor\n",
    "5. Deep Neural Net"
   ]
  },
  {
   "cell_type": "code",
   "execution_count": 114,
   "metadata": {
    "collapsed": true
   },
   "outputs": [],
   "source": [
    "from sklearn.metrics import mean_squared_error\n",
    "\n",
    "def rmse(y_,y):\n",
    "    return mean_squared_error(y_,y)**0.5"
   ]
  },
  {
   "cell_type": "code",
   "execution_count": 115,
   "metadata": {},
   "outputs": [
    {
     "name": "stdout",
     "output_type": "stream",
     "text": [
      "3632.29516197\n"
     ]
    }
   ],
   "source": [
    "from sklearn.linear_model import LinearRegression\n",
    "lr = LinearRegression()\n",
    "lr.fit(X_train,Y_train)\n",
    "y_ = lr.predict(X_Validation)\n",
    "print(rmse(y_,Y_Validation))"
   ]
  },
  {
   "cell_type": "code",
   "execution_count": 116,
   "metadata": {},
   "outputs": [
    {
     "name": "stdout",
     "output_type": "stream",
     "text": [
      "3679.07423084\n"
     ]
    }
   ],
   "source": [
    "from sklearn.linear_model import SGDRegressor\n",
    "sgd = SGDRegressor(random_state=5,max_iter=50)\n",
    "sgd.fit(X_train,Y_train)\n",
    "y_ = sgd.predict(X_Validation)\n",
    "print(rmse(y_,Y_Validation))"
   ]
  },
  {
   "cell_type": "code",
   "execution_count": 22,
   "metadata": {},
   "outputs": [
    {
     "data": {
      "text/plain": [
       "'from sklearn.svm import SVR\\nsvr = SVR(C=0.5,tol=0.00001)\\nsvr.fit(X_train,Y_train)\\ny_ = svr.predict(X_Validation)\\nprint(rmse(y_,Y_Validation))'"
      ]
     },
     "execution_count": 22,
     "metadata": {},
     "output_type": "execute_result"
    }
   ],
   "source": [
    "\"\"\"from sklearn.svm import SVR\n",
    "svr = SVR(C=0.5,tol=0.00001)\n",
    "svr.fit(X_train,Y_train)\n",
    "y_ = svr.predict(X_Validation)\n",
    "print(rmse(y_,Y_Validation))\"\"\""
   ]
  },
  {
   "cell_type": "code",
   "execution_count": 63,
   "metadata": {
    "collapsed": true
   },
   "outputs": [],
   "source": [
    "## XGBoost"
   ]
  },
  {
   "cell_type": "code",
   "execution_count": 117,
   "metadata": {},
   "outputs": [],
   "source": [
    "from keras.models import Sequential\n",
    "from keras.layers import Dense, Dropout, Activation\n",
    "\n",
    "model = Sequential()\n",
    "#Layer 1\n",
    "model.add(Dense(512,input_shape=(X_train.shape[1],)))\n",
    "model.add(Activation(\"relu\"))\n",
    "\n",
    "#Layer 2\n",
    "model.add(Dense(256))\n",
    "model.add(Activation(\"relu\"))\n",
    "model.add(Dropout(0.1))\n",
    "\n",
    "#Layer 3\n",
    "model.add(Dense(128))\n",
    "model.add(Activation(\"relu\"))\n",
    "\n",
    "model.add(Dense(1))\n",
    "model.add(Activation(\"linear\"))\n",
    "\n",
    "model.compile(loss=\"mean_squared_error\",optimizer=\"adam\",metrics=[\"mean_squared_error\"])"
   ]
  },
  {
   "cell_type": "code",
   "execution_count": 118,
   "metadata": {},
   "outputs": [],
   "source": [
    "from time import time\n",
    "from keras.callbacks import EarlyStopping,ModelCheckpoint,TensorBoard\n",
    "save_model_back_callback = ModelCheckpoint(\"ann_black_friday.hdf5\",monitor=\"val_loss\",save_best_only=True,verbose=1)\n",
    "early_stopping_callback = EarlyStopping(monitor=\"val_loss\",patience=2,verbose=1)\n",
    "tensorboard = TensorBoard(log_dir=\"logs/{}\".format(time()))\n",
    "\n",
    "callback_list = [save_model_back_callback,early_stopping_callback,tensorboard]"
   ]
  },
  {
   "cell_type": "code",
   "execution_count": 119,
   "metadata": {
    "scrolled": false
   },
   "outputs": [
    {
     "name": "stdout",
     "output_type": "stream",
     "text": [
      "Train on 440054 samples, validate on 110014 samples\n",
      "Epoch 1/30\n",
      "440054/440054 [==============================] - 172s 390us/step - loss: 11566715.0472 - mean_squared_error: 11566715.0472 - val_loss: 8988230.4868 - val_mean_squared_error: 8988230.4868\n",
      "\n",
      "Epoch 00001: val_loss improved from inf to 8988230.48676, saving model to ann_black_friday.hdf5\n",
      "Epoch 2/30\n",
      "440054/440054 [==============================] - 159s 361us/step - loss: 9019643.7275 - mean_squared_error: 9019643.7275 - val_loss: 8673463.1098 - val_mean_squared_error: 8673463.1098\n",
      "\n",
      "Epoch 00002: val_loss improved from 8988230.48676 to 8673463.10979, saving model to ann_black_friday.hdf5\n",
      "Epoch 3/30\n",
      "440054/440054 [==============================] - 143s 324us/step - loss: 8826276.3942 - mean_squared_error: 8826276.3942 - val_loss: 8565730.1584 - val_mean_squared_error: 8565730.1584\n",
      "\n",
      "Epoch 00003: val_loss improved from 8673463.10979 to 8565730.15836, saving model to ann_black_friday.hdf5\n",
      "Epoch 4/30\n",
      "440054/440054 [==============================] - 171s 388us/step - loss: 8723762.6296 - mean_squared_error: 8723762.6296 - val_loss: 8517793.2420 - val_mean_squared_error: 8517793.2420\n",
      "\n",
      "Epoch 00004: val_loss improved from 8565730.15836 to 8517793.24204, saving model to ann_black_friday.hdf5\n",
      "Epoch 5/30\n",
      "440054/440054 [==============================] - 165s 375us/step - loss: 8657148.9533 - mean_squared_error: 8657148.9533 - val_loss: 8489165.7277 - val_mean_squared_error: 8489165.7277\n",
      "\n",
      "Epoch 00005: val_loss improved from 8517793.24204 to 8489165.72774, saving model to ann_black_friday.hdf5\n",
      "Epoch 6/30\n",
      "440054/440054 [==============================] - 164s 372us/step - loss: 8606495.2684 - mean_squared_error: 8606495.2684 - val_loss: 8462416.4104 - val_mean_squared_error: 8462416.4104\n",
      "\n",
      "Epoch 00006: val_loss improved from 8489165.72774 to 8462416.41044, saving model to ann_black_friday.hdf5\n",
      "Epoch 7/30\n",
      "440054/440054 [==============================] - 164s 372us/step - loss: 8553059.6964 - mean_squared_error: 8553059.6964 - val_loss: 8448103.8483 - val_mean_squared_error: 8448103.8483\n",
      "\n",
      "Epoch 00007: val_loss improved from 8462416.41044 to 8448103.84833, saving model to ann_black_friday.hdf5\n",
      "Epoch 8/30\n",
      "440054/440054 [==============================] - 159s 361us/step - loss: 8520287.8759 - mean_squared_error: 8520287.8759 - val_loss: 8451925.1654 - val_mean_squared_error: 8451925.1654\n",
      "\n",
      "Epoch 00008: val_loss did not improve from 8448103.84833\n",
      "Epoch 9/30\n",
      "440054/440054 [==============================] - 161s 366us/step - loss: 8484095.2324 - mean_squared_error: 8484095.2324 - val_loss: 8425031.6663 - val_mean_squared_error: 8425031.6663\n",
      "\n",
      "Epoch 00009: val_loss improved from 8448103.84833 to 8425031.66628, saving model to ann_black_friday.hdf5\n",
      "Epoch 10/30\n",
      "440054/440054 [==============================] - 177s 403us/step - loss: 8440934.8232 - mean_squared_error: 8440934.8232 - val_loss: 8398161.9977 - val_mean_squared_error: 8398161.9977\n",
      "\n",
      "Epoch 00010: val_loss improved from 8425031.66628 to 8398161.99775, saving model to ann_black_friday.hdf5\n",
      "Epoch 11/30\n",
      "440054/440054 [==============================] - 189s 429us/step - loss: 8419114.4561 - mean_squared_error: 8419114.4561 - val_loss: 8385145.7002 - val_mean_squared_error: 8385145.7002\n",
      "\n",
      "Epoch 00011: val_loss improved from 8398161.99775 to 8385145.70024, saving model to ann_black_friday.hdf5\n",
      "Epoch 12/30\n",
      "440054/440054 [==============================] - 194s 442us/step - loss: 8387107.7436 - mean_squared_error: 8387107.7436 - val_loss: 8351975.9165 - val_mean_squared_error: 8351975.9165\n",
      "\n",
      "Epoch 00012: val_loss improved from 8385145.70024 to 8351975.91647, saving model to ann_black_friday.hdf5\n",
      "Epoch 13/30\n",
      "440054/440054 [==============================] - 194s 441us/step - loss: 8357338.8527 - mean_squared_error: 8357338.8527 - val_loss: 8339109.6629 - val_mean_squared_error: 8339109.6629\n",
      "\n",
      "Epoch 00013: val_loss improved from 8351975.91647 to 8339109.66292, saving model to ann_black_friday.hdf5\n",
      "Epoch 14/30\n",
      "440054/440054 [==============================] - 193s 438us/step - loss: 8331919.3471 - mean_squared_error: 8331919.3471 - val_loss: 8383840.0960 - val_mean_squared_error: 8383840.0960\n",
      "\n",
      "Epoch 00014: val_loss did not improve from 8339109.66292\n",
      "Epoch 15/30\n",
      "440054/440054 [==============================] - 193s 439us/step - loss: 8309192.5335 - mean_squared_error: 8309192.5335 - val_loss: 8366145.4910 - val_mean_squared_error: 8366145.4910\n",
      "\n",
      "Epoch 00015: val_loss did not improve from 8339109.66292\n",
      "Epoch 00015: early stopping\n"
     ]
    },
    {
     "data": {
      "text/plain": [
       "<keras.callbacks.History at 0x7f1157c6a358>"
      ]
     },
     "execution_count": 119,
     "metadata": {},
     "output_type": "execute_result"
    }
   ],
   "source": [
    "n_epochs=30\n",
    "batch_size = 32\n",
    "\n",
    "model.fit(X_train,Y_train,\n",
    "          epochs=n_epochs,\n",
    "          batch_size=batch_size,\n",
    "          callbacks=callback_list,\n",
    "          validation_data=(X_Validation,Y_Validation),\n",
    "          shuffle=True,verbose=1)"
   ]
  },
  {
   "cell_type": "code",
   "execution_count": 120,
   "metadata": {},
   "outputs": [],
   "source": [
    "model.load_weights(filepath=\"ann_black_friday.hdf5\")"
   ]
  },
  {
   "cell_type": "code",
   "execution_count": 121,
   "metadata": {},
   "outputs": [
    {
     "data": {
      "text/plain": [
       "array([[ 15808.79785156],\n",
       "       [ 11103.75292969],\n",
       "       [  6936.42919922],\n",
       "       [  3220.83618164],\n",
       "       [  2592.44702148],\n",
       "       [ 11151.3203125 ],\n",
       "       [ 12030.24511719],\n",
       "       [ 10391.0625    ],\n",
       "       [ 18893.7109375 ],\n",
       "       [  5827.28662109]], dtype=float32)"
      ]
     },
     "execution_count": 121,
     "metadata": {},
     "output_type": "execute_result"
    }
   ],
   "source": [
    "Y_test = model.predict(X_test)\n",
    "Y_test[:10]"
   ]
  },
  {
   "cell_type": "code",
   "execution_count": 122,
   "metadata": {},
   "outputs": [],
   "source": [
    "ans = pd.DataFrame({\n",
    "    \"User_ID\":submission.User_ID,\n",
    "    \"Product_ID\":submission.Product_ID,\n",
    "    \"Purchase\":Y_test.reshape((len(Y_test)))\n",
    "})\n",
    "ans.to_csv(\"submission5.csv\",index=False)"
   ]
  },
  {
   "cell_type": "code",
   "execution_count": null,
   "metadata": {
    "collapsed": true
   },
   "outputs": [],
   "source": []
  }
 ],
 "metadata": {
  "kernelspec": {
   "display_name": "Python 3",
   "language": "python",
   "name": "python3"
  },
  "language_info": {
   "codemirror_mode": {
    "name": "ipython",
    "version": 3
   },
   "file_extension": ".py",
   "mimetype": "text/x-python",
   "name": "python",
   "nbconvert_exporter": "python",
   "pygments_lexer": "ipython3",
   "version": "3.6.3"
  }
 },
 "nbformat": 4,
 "nbformat_minor": 2
}
